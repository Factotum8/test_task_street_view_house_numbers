{
 "cells": [
  {
   "cell_type": "code",
   "execution_count": 1,
   "metadata": {},
   "outputs": [
    {
     "name": "stdout",
     "output_type": "stream",
     "text": [
      "Test set (13068, 32, 32, 1) (13068, 6)\n"
     ]
    }
   ],
   "source": [
    "import os\n",
    "import numpy as np\n",
    "import tensorflow as tf\n",
    "from PIL import Image\n",
    "from six.moves import cPickle as pickle\n",
    "# from six.moves import range\n",
    "\n",
    "pickle_file = './model/SVHN_multi.pickle'\n",
    "\n",
    "with open(pickle_file, 'rb') as f:\n",
    "    save = pickle.load(f)\n",
    "    test_dataset = save['test_dataset']\n",
    "    test_labels = save['test_labels']\n",
    "    del save  # hint to help gc free up memory\n",
    "    print('Test set', test_dataset.shape, test_labels.shape)"
   ]
  },
  {
   "cell_type": "code",
   "execution_count": 2,
   "metadata": {},
   "outputs": [],
   "source": [
    "def LecunLCN(X, image_shape, threshold=1e-4, radius=7, use_divisor=True):\n",
    "    \"\"\"\n",
    "    Local Contrast Normalization\n",
    "    :param X: tf_train_dataset\n",
    "    :param image_shape: [batch_size, image_size, image_size, num_channels]\n",
    "    \"\"\"\n",
    "    # Get Gaussian filter\n",
    "    filter_shape = (radius, radius, image_shape[3], 1)\n",
    "    filters, filters_asarray = gaussian_filter(filter_shape)\n",
    "    \n",
    "    X = tf.convert_to_tensor(X, dtype=tf.float32)\n",
    "    # Compute the Guassian weighted average by means of convolution\n",
    "    convout = tf.nn.conv2d(X, filters, [1,1,1,1], 'SAME')\n",
    "\n",
    "    # Subtractive step\n",
    "    mid = int(np.floor(filter_shape[1] / 2.))\n",
    "\n",
    "    # Make filter dimension broadcastable and subtract\n",
    "    centered_X = tf.subtract(X, convout)\n",
    "\n",
    "    # Boolean marks whether or not to perform divisive step\n",
    "    if use_divisor:\n",
    "        # Note that the local variances can be computed by using the centered_X\n",
    "        # tensor. If we convolve this with the mean filter, that should give us\n",
    "        # the variance at each point. We simply take the square root to get our\n",
    "        # denominator\n",
    "\n",
    "        # Compute variances\n",
    "        sum_sqr_XX = tf.nn.conv2d(tf.square(centered_X), filters, [1,1,1,1], 'SAME')\n",
    "\n",
    "        # Take square root to get local standard deviation\n",
    "        denom = tf.sqrt(sum_sqr_XX)\n",
    "\n",
    "        per_img_mean = tf.reduce_mean(denom)\n",
    "        divisor = tf.maximum(per_img_mean, denom)\n",
    "        # Divisise step\n",
    "        new_X = tf.truediv(centered_X, tf.maximum(divisor, threshold))\n",
    "    else:\n",
    "        new_X = centered_X\n",
    "\n",
    "    return new_X\n",
    "\n",
    "\n",
    "def gaussian_filter(kernel_shape, ax):\n",
    "    # The Gaussian filter of the desired size initialized to zero\n",
    "    filter_ = np.zeros(kernel_shape, dtype = float)\n",
    "    mid = np.floor(kernel_shape[0] / 2.)  # Middle of kernel of Gaussian filter\n",
    "    \n",
    "    for kernel_idx in range(0, kernel_shape[2]):\n",
    "        for i in range(0, kernel_shape[0]):  # go on width of Gaussian weighting window\n",
    "            for j in range(0, kernel_shape[1]):  # go on height of Gaussian weighting window\n",
    "                filter_[i, j, kernel_idx, 0] = gauss(i - mid, j - mid)\n",
    "    \n",
    "    filter_ = filter_ / np.sum(filter_) \n",
    "    return tf.convert_to_tensor(filter_, dtype=tf.float32), filter_\n",
    "\n",
    "def gauss(x, y, sigma=3.0):\n",
    "    Z = 2 * np.pi * sigma ** 2\n",
    "    return  1. / Z * np.exp(-(x ** 2 + y ** 2) / (2. * sigma ** 2))"
   ]
  },
  {
   "cell_type": "code",
   "execution_count": 3,
   "metadata": {},
   "outputs": [],
   "source": [
    "filename = \"1.png\"\n",
    "fullname = os.path.join('./data/test', filename)\n",
    "im = Image.open(fullname)\n",
    "house_num = ''\n",
    "image_index, _ = filename.split(\".\")\n",
    "image_index = int(image_index) - 1"
   ]
  },
  {
   "cell_type": "code",
   "execution_count": 19,
   "metadata": {},
   "outputs": [
    {
     "name": "stdout",
     "output_type": "stream",
     "text": [
      "INFO:tensorflow:Restoring parameters from ./model/CNN_multi2.ckpt\n",
      "Model restored.\n",
      "Initialized\n",
      "[[ 2  1  0 10 10]]\n"
     ]
    }
   ],
   "source": [
    "image_size = 32\n",
    "num_labels = 11 # 0-9, + blank \n",
    "num_channels = 1 # grayscale\n",
    "\n",
    "patch_size = 5\n",
    "depth1 = 16\n",
    "depth2 = 32\n",
    "depth3 = 64\n",
    "num_hidden1 = 64\n",
    "\n",
    "graph = tf.Graph()\n",
    "with graph.as_default():\n",
    "    \n",
    "    # Input data.\n",
    "    tf_test_dataset = tf.placeholder(tf.float32, shape=(1, 32, 32, 1))\n",
    "  \n",
    "    # Variables.\n",
    "    layer1_weights = tf.get_variable(\"W1\", \n",
    "                                       shape=[patch_size, patch_size, num_channels, depth1],\n",
    "                                       initializer=tf.contrib.layers.xavier_initializer_conv2d())\n",
    "    layer1_biases = tf.Variable(tf.constant(1.0, shape=[depth1]), name='B1')\n",
    "    layer2_weights = tf.get_variable(\"W2\", \n",
    "                                       shape=[patch_size, patch_size, depth1, depth2],\n",
    "                                       initializer=tf.contrib.layers.xavier_initializer_conv2d())\n",
    "    layer2_biases = tf.Variable(tf.constant(1.0, shape=[depth2]), name='B2')\n",
    "    layer3_weights = tf.get_variable(\"W3\", \n",
    "                                       shape=[patch_size, patch_size, depth2, num_hidden1],\n",
    "                                       initializer=tf.contrib.layers.xavier_initializer_conv2d())\n",
    "    layer3_biases = tf.Variable(tf.constant(1.0, shape=[num_hidden1]), name='B3')\n",
    "\n",
    "    s1_w = tf.get_variable(\"WS1\", shape=[num_hidden1, num_labels],\n",
    "                             initializer=tf.contrib.layers.xavier_initializer())\n",
    "    s1_b = tf.Variable(tf.constant(1.0, shape=[num_labels]), name='BS1')\n",
    "    s2_w = tf.get_variable(\"WS2\", shape=[num_hidden1, num_labels], \n",
    "                             initializer=tf.contrib.layers.xavier_initializer())\n",
    "    s2_b = tf.Variable(tf.constant(1.0, shape=[num_labels]), name='BS2')\n",
    "    s3_w = tf.get_variable(\"WS3\", shape=[num_hidden1, num_labels],\n",
    "                             initializer=tf.contrib.layers.xavier_initializer())\n",
    "    s3_b = tf.Variable(tf.constant(1.0, shape=[num_labels]), name='BS3')\n",
    "    s4_w = tf.get_variable(\"WS4\", shape=[num_hidden1, num_labels], \n",
    "                             initializer=tf.contrib.layers.xavier_initializer())\n",
    "    s4_b = tf.Variable(tf.constant(1.0, shape=[num_labels]), name='BS4')\n",
    "    s5_w = tf.get_variable(\"WS5\", shape=[num_hidden1, num_labels],\n",
    "                            initializer=tf.contrib.layers.xavier_initializer())\n",
    "    s5_b = tf.Variable(tf.constant(1.0, shape=[num_labels]), name='BS5')\n",
    "  \n",
    "    # Model.\n",
    "    def model(data, keep_prob, shape):\n",
    "        LCN = LecunLCN(data, shape)\n",
    "        conv = tf.nn.conv2d(LCN, layer1_weights, [1,1,1,1], 'VALID', name='C1')\n",
    "        hidden = tf.nn.relu(conv + layer1_biases)\n",
    "        lrn = tf.nn.local_response_normalization(hidden)\n",
    "        sub = tf.nn.max_pool(lrn, [1,2,2,1], [1,2,2,1], 'SAME', name='S2')\n",
    "        conv = tf.nn.conv2d(sub, layer2_weights, [1,1,1,1], padding='VALID', name='C3')\n",
    "        hidden = tf.nn.relu(conv + layer2_biases)\n",
    "        lrn = tf.nn.local_response_normalization(hidden)\n",
    "        sub = tf.nn.max_pool(lrn, [1,2,2,1], [1,2,2,1], 'SAME', name='S4')\n",
    "        conv = tf.nn.conv2d(sub, layer3_weights, [1,1,1,1], padding='VALID', name='C5')\n",
    "        hidden = tf.nn.relu(conv + layer3_biases)\n",
    "        hidden = tf.nn.dropout(hidden, keep_prob)\n",
    "        shape = hidden.get_shape().as_list()\n",
    "        reshape = tf.reshape(hidden, [shape[0], shape[1] * shape[2] * shape[3]])\n",
    "        \n",
    "        logits1 = tf.matmul(reshape, s1_w) + s1_b\n",
    "        logits2 = tf.matmul(reshape, s2_w) + s2_b\n",
    "        logits3 = tf.matmul(reshape, s3_w) + s3_b\n",
    "        logits4 = tf.matmul(reshape, s4_w) + s4_b\n",
    "        logits5 = tf.matmul(reshape, s5_w) + s5_b\n",
    "        \n",
    "        return [logits1, logits2, logits3, logits4, logits5]\n",
    "  \n",
    "    # Training computation.\n",
    "    [logits1, logits2, logits3, logits4, logits5] = model(tf_test_dataset, 1, [10, 32, 32, 1])\n",
    "  \n",
    "    predict = tf.stack([tf.nn.softmax(logits1), tf.nn.softmax(logits2),\n",
    "                        tf.nn.softmax(logits3), tf.nn.softmax(logits4),\n",
    "                        tf.nn.softmax(logits5)])  \n",
    "  \n",
    "    test_prediction = tf.transpose(tf.argmax(predict, 2))\n",
    "    saver = tf.train.Saver()\n",
    "    input_image_array = np.expand_dims(test_dataset[image_index, :, :, :], axis=0)\n",
    "\n",
    "with tf.Session(graph=graph) as session:\n",
    "    saver.restore(session, \"./model/CNN_multi2.ckpt\")\n",
    "    print(\"Model restored.\")  \n",
    "    print('Initialized')\n",
    "    \n",
    "    test_prediction = session.run(test_prediction, \n",
    "                                  feed_dict={tf_test_dataset : input_image_array,})\n",
    "    print(test_prediction)"
   ]
  },
  {
   "cell_type": "code",
   "execution_count": 14,
   "metadata": {},
   "outputs": [
    {
     "data": {
      "text/plain": [
       "'210'"
      ]
     },
     "execution_count": 14,
     "metadata": {},
     "output_type": "execute_result"
    }
   ],
   "source": [
    "number_house = \"\".join([str(digit) for digit in test_prediction[0,:] if digit != 10])\n",
    "number_house"
   ]
  }
 ],
 "metadata": {
  "kernelspec": {
   "display_name": "Python 3",
   "language": "python",
   "name": "python3"
  },
  "language_info": {
   "codemirror_mode": {
    "name": "ipython",
    "version": 3
   },
   "file_extension": ".py",
   "mimetype": "text/x-python",
   "name": "python",
   "nbconvert_exporter": "python",
   "pygments_lexer": "ipython3",
   "version": "3.7.3"
  }
 },
 "nbformat": 4,
 "nbformat_minor": 2
}
